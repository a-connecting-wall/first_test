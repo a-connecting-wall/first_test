{
 "cells": [
  {
   "cell_type": "code",
   "execution_count": null,
   "id": "a0920250",
   "metadata": {
    "vscode": {
     "languageId": "plaintext"
    }
   },
   "outputs": [],
   "source": [
    "import random\n",
    "\n",
    "def stop_being_lazy():\n",
    "    print(\"\\n🥊 게으름 탈출 타자 지옥 시작!\")\n",
    "    print(\"'움직이자!'를 정확히 입력하세요.\")\n",
    "\n",
    "    while True:\n",
    "        count = random.randint(3, 20)\n",
    "        print(f\"미션 : {count}번 입력에 성공해야 타자지옥을 탈출 할 수 있습니다.\\n\")\n",
    "        success = True\n",
    "\n",
    "        for i in range(1, count + 1):\n",
    "            user_input = input(f\"{i}번째 입력! '움직이자!'를 입력하세요 👉\")\n",
    "            if user_input != '움직이자!':\n",
    "                print(\"❌ 오타! 다시 시작합니다.\\n\")\n",
    "                success = False\n",
    "                break\n",
    "\n",
    "        if success:\n",
    "            print(\"\\n🥳축하합니다! 타자지옥 탈출!\")\n",
    "            break\n",
    "\n",
    "def weekly_report():\n",
    "    print(\"✔️이번 주 게으름 지수 측정\")\n",
    "    sleep = int(input(print(\"😴늦잠 잔 횟수는?(0~7): \")))\n",
    "    print(sleep)\n",
    "    wash = int(input(print(\"🛁머리 안 감은/샤워 안 한 횟수(0~7): \")))\n",
    "    print(wash)\n",
    "    meals = int(input(print(\"🍽️귀찮아서 끼니를 거른 횟수(0~7): \")))\n",
    "    print(meals)\n",
    "    movie = int(input(print(\"🎬유튜브/릴스 등 3시간 이상 본 횟수(0~7): \")))\n",
    "    print(movie)\n",
    "    noplan = int(input(print(\"📒의미 없이 하루를 보낸 횟수(0~7): \")))\n",
    "    print(noplan)\n",
    "\n",
    "    scores = (sleep * (20/7) + wash * (20/7) + meals * (15/7) + movie * (15/7) + noplan * (30/7))\n",
    "    score = round(scores, 1)\n",
    "\n",
    "    print(f\"당신의 이번 주 게으름 지수는 {score}점 입니다.\")\n",
    "\n",
    "    if score > 80:\n",
    "        print(\"🔖게으름의 신\")\n",
    "    elif score > 60:\n",
    "        print(\"🔖좀 더 움직이세요\")\n",
    "    elif score > 20:\n",
    "        print(\"🔖부지런의 ㅂ정도?\")\n",
    "    elif score > 10:\n",
    "        print(\"🔖부지런하시네요\")\n",
    "    else:\n",
    "        print(\"🏃‍♂️너무 부지런해....\")\n",
    "\n",
    "    if score > 60:\n",
    "        stop_being_lazy()\n",
    "\n",
    "weekly_report()"
   ]
  }
 ],
 "metadata": {
  "language_info": {
   "name": "python"
  }
 },
 "nbformat": 4,
 "nbformat_minor": 5
}
