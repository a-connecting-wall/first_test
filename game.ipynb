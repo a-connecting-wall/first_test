{
 "cells": [
  {
   "cell_type": "code",
   "execution_count": null,
   "id": "bc90cc29-7782-4c68-af55-480c4f27e637",
   "metadata": {},
   "outputs": [
    {
     "name": "stdout",
     "output_type": "stream",
     "text": [
      "1에서 50까지 숫자 중 정답을 맞춰 보세요:  \n"
     ]
    },
    {
     "name": "stdout",
     "output_type": "stream",
     "text": [
      "숫자만 입력해 주세요.\n"
     ]
    },
    {
     "name": "stdout",
     "output_type": "stream",
     "text": [
      "1에서 50까지 숫자 중 정답을 맞춰 보세요:  50\n"
     ]
    },
    {
     "name": "stdout",
     "output_type": "stream",
     "text": [
      "down\n"
     ]
    },
    {
     "name": "stdout",
     "output_type": "stream",
     "text": [
      "1에서 50까지 숫자 중 정답을 맞춰 보세요:  35\n"
     ]
    },
    {
     "name": "stdout",
     "output_type": "stream",
     "text": [
      "down\n"
     ]
    },
    {
     "name": "stdout",
     "output_type": "stream",
     "text": [
      "1에서 50까지 숫자 중 정답을 맞춰 보세요:  1\n"
     ]
    },
    {
     "name": "stdout",
     "output_type": "stream",
     "text": [
      "up\n"
     ]
    },
    {
     "name": "stdout",
     "output_type": "stream",
     "text": [
      "1에서 50까지 숫자 중 정답을 맞춰 보세요:  25\n"
     ]
    },
    {
     "name": "stdout",
     "output_type": "stream",
     "text": [
      "down\n"
     ]
    },
    {
     "name": "stdout",
     "output_type": "stream",
     "text": [
      "1에서 50까지 숫자 중 정답을 맞춰 보세요:  10\n"
     ]
    },
    {
     "name": "stdout",
     "output_type": "stream",
     "text": [
      "up\n"
     ]
    }
   ],
   "source": [
    "#### import random\n",
    "# 왜 안되냐고\n",
    "\n",
    "def bottle_cap():\n",
    "    answer = random.randint(1, 50)  # 정답 숫자 생성\n",
    "    \n",
    "    while True:\n",
    "        try:\n",
    "            player = int(input(\"1에서 50까지 숫자 중 정답을 맞춰 보세요: \"))\n",
    "        except ValueError:\n",
    "            print(\"숫자만 입력해 주세요.\")\n",
    "            continue\n",
    "\n",
    "        if player > answer:\n",
    "            print(\"down\")\n",
    "        elif player < answer:\n",
    "            print(\"up\")\n",
    "        else:\n",
    "            print(\"정답!\")\n",
    "            break\n",
    "    ``\n",
    "\n",
    "\n",
    "bottle_cap()\n",
    "\n",
    "    "
   ]
  },
  {
   "cell_type": "code",
   "execution_count": null,
   "id": "80537d4f-b45f-439f-98c4-46a717a3d144",
   "metadata": {},
   "outputs": [],
   "source": [
    "print('test')"
   ]
  }
 ],
 "metadata": {
  "kernelspec": {
   "display_name": "Python 3 (ipykernel)",
   "language": "python",
   "name": "python3"
  },
  "language_info": {
   "codemirror_mode": {
    "name": "ipython",
    "version": 3
   },
   "file_extension": ".py",
   "mimetype": "text/x-python",
   "name": "python",
   "nbconvert_exporter": "python",
   "pygments_lexer": "ipython3",
   "version": "3.12.11"
  }
 },
 "nbformat": 4,
 "nbformat_minor": 5
}
