{
 "cells": [
  {
   "cell_type": "code",
   "execution_count": null,
   "id": "bd97209f",
   "metadata": {},
   "outputs": [],
   "source": [
    "print(\"살려줘\")"
   ]
  }
 ],
 "metadata": {
  "language_info": {
   "name": "python"
  }
 },
 "nbformat": 4,
 "nbformat_minor": 5
}
