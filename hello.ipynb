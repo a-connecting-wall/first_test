{
 "cells": [
  {
   "cell_type": "code",
   "execution_count": null,
   "id": "bd97209f",
   "metadata": {},
   "outputs": [],
   "source": [
    "print(\"살려줘\")\n",
    "\n",
    "print(\"집가고싶다\")\n",
    "\n",
    "print(\"공부하자\")"
   ]
  }
 ],
 "metadata": {
  "language_info": {
   "name": "python"
  }
 },
 "nbformat": 4,
 "nbformat_minor": 5
}
