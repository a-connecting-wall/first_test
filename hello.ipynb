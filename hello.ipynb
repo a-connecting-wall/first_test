{
 "cells": [
  {
   "cell_type": "code",
   "execution_count": null,
   "id": "bd97209f",
   "metadata": {},
   "outputs": [],
   "source": [
    "print(\"살려줘\")"
   ]
  },
  {
   "cell_type": "code",
   "execution_count": 2,
   "id": "94b07871",
   "metadata": {},
   "outputs": [
    {
     "name": "stdout",
     "output_type": "stream",
     "text": [
      "안녕\n"
     ]
    }
   ],
   "source": [
    "print(\"안녕\")"
   ]
  }
 ],
 "metadata": {
  "kernelspec": {
   "display_name": "pystudy_env",
   "language": "python",
   "name": "python3"
  },
  "language_info": {
   "codemirror_mode": {
    "name": "ipython",
    "version": 3
   },
   "file_extension": ".py",
   "mimetype": "text/x-python",
   "name": "python",
   "nbconvert_exporter": "python",
   "pygments_lexer": "ipython3",
   "version": "3.12.11"
  }
 },
 "nbformat": 4,
 "nbformat_minor": 5
}
