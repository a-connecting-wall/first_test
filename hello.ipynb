{
 "cells": [
  {
   "cell_type": "code",
   "execution_count": null,
   "id": "bd97209f",
   "metadata": {},
   "outputs": [
    {
     "name": "stdout",
     "output_type": "stream",
     "text": [
      "살려줘\n"
     ]
    }
   ],
   "source": [
    "print(\"살려줘\")\n"
   ]
  },
  {
   "cell_type": "code",
   "execution_count": null,
   "id": "9b311cbe",
   "metadata": {},
   "outputs": [],
   "source": [
    "print(\"실어요\")"
   ]
  }
 ],
 "metadata": {
  "kernelspec": {
   "display_name": "pystudy_env",
   "language": "python",
   "name": "pystudy_env"
  },
  "language_info": {
   "codemirror_mode": {
    "name": "ipython",
    "version": 3
   },
   "file_extension": ".py",
   "mimetype": "text/x-python",
   "name": "python",
   "nbconvert_exporter": "python",
   "pygments_lexer": "ipython3",
   "version": "3.12.11"
  }
 },
 "nbformat": 4,
 "nbformat_minor": 5
}
