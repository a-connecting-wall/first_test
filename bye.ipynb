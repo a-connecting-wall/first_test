{
 "cells": [
  {
   "cell_type": "code",
   "execution_count": null,
   "id": "2893737e",
   "metadata": {},
   "outputs": [],
   "source": [
    "print(\"너무 어려워요 살려주세요\")"
   ]
  }
 ],
 "metadata": {
  "kernelspec": {
   "display_name": "pystudy_env",
   "language": "python",
   "name": "pystudy_env"
  },
  "language_info": {
   "name": "python",
   "version": "3.12.11"
  }
 },
 "nbformat": 4,
 "nbformat_minor": 5
}
